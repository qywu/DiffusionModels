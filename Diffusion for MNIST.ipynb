{
 "cells": [
  {
   "cell_type": "code",
   "execution_count": 1,
   "id": "f87ec9ac-cb88-4908-9f66-3a9a396e1eb9",
   "metadata": {},
   "outputs": [],
   "source": [
    "import os\n",
    "import math\n",
    "import numpy as np\n",
    "import torch\n",
    "import torch.nn as nn\n",
    "import torch.nn.functional as F\n",
    "from torch.utils.data import Dataset, DataLoader\n",
    "from torchvision.datasets import MNIST, FashionMNIST, CIFAR10\n",
    "import torchvision\n",
    "from torchvision import transforms\n",
    "import matplotlib.pyplot as plt\n",
    "import tqdm\n",
    "from transformers import get_linear_schedule_with_warmup\n",
    "\n",
    "from UNet import UNet\n",
    "from SimpleUNet import SimpleUNet"
   ]
  },
  {
   "cell_type": "markdown",
   "id": "47d9c047-805c-4a94-a60d-7ed2b8881b30",
   "metadata": {},
   "source": [
    "### Hyper-parameters"
   ]
  },
  {
   "cell_type": "code",
   "execution_count": 2,
   "id": "e6c152c2-d2e5-4df0-a3e0-b4a5090f0b8d",
   "metadata": {},
   "outputs": [],
   "source": [
    "# training\n",
    "batch_size = 128\n",
    "eval_batch_size = 256\n",
    "learning_rate = 2e-4\n",
    "num_epochs = 10\n",
    "num_warmup_stesp = 100\n",
    "\n",
    "# diffusion model\n",
    "diffusion_steps = 1000\n",
    "beta_large = 0.02\n",
    "beta_small = 1e-4"
   ]
  },
  {
   "cell_type": "markdown",
   "id": "70f7c7fa-c6df-4db6-96c6-3b3accb14508",
   "metadata": {},
   "source": [
    "### Setup"
   ]
  },
  {
   "cell_type": "code",
   "execution_count": 3,
   "id": "14056262-da0c-43a0-8142-a67ac13debed",
   "metadata": {},
   "outputs": [],
   "source": [
    "# train_loader = torch.utils.data.DataLoader(\n",
    "#       torchvision.datasets.MNIST('/tmp/', train=True, download=True,\n",
    "#                              transform=torchvision.transforms.Compose([\n",
    "#                                torchvision.transforms.ToTensor(),\n",
    "#                                  torchvision.transforms.Pad(2)\n",
    "#                                # torchvision.transforms.Resize(32),\n",
    "#                              ])),\n",
    "#       batch_size=batch_size, shuffle=True)\n",
    "\n",
    "# test_loader = torch.utils.data.DataLoader(\n",
    "#      torchvision.datasets.MNIST('/tmp/', train=False, download=True,\n",
    "#                              transform=torchvision.transforms.Compose([\n",
    "#                                torchvision.transforms.ToTensor(),\n",
    "#                                 torchvision.transforms.Pad(2)\n",
    "#                                # torchvision.transforms.Resize(32),\n",
    "#                              ])),\n",
    "#       batch_size=eval_batch_size, shuffle=True)"
   ]
  },
  {
   "cell_type": "code",
   "execution_count": 4,
   "id": "e110eea3-c652-470a-a03d-878b0f653d66",
   "metadata": {},
   "outputs": [],
   "source": [
    "class DiffSet(Dataset):\n",
    "    def __init__(self, train, dataset=\"MNIST\"):\n",
    "        transform = transforms.Compose([transforms.ToTensor()])\n",
    "\n",
    "        datasets = {\n",
    "            \"MNIST\": MNIST,\n",
    "            \"Fashion\": FashionMNIST,\n",
    "            \"CIFAR\": CIFAR10,\n",
    "        }\n",
    "\n",
    "        train_dataset = datasets[dataset](\n",
    "            \"./data\", download=True, train=train, transform=transform\n",
    "        )\n",
    "\n",
    "        self.dataset_len = len(train_dataset.data)\n",
    "\n",
    "        if dataset == \"MNIST\" or dataset == \"Fashion\":\n",
    "            pad = transforms.Pad(2)\n",
    "            data = pad(train_dataset.data)\n",
    "            data = data.unsqueeze(3)\n",
    "            self.depth = 1\n",
    "            self.size = 32\n",
    "        elif dataset == \"CIFAR\":\n",
    "            data = torch.Tensor(train_dataset.data)\n",
    "            self.depth = 3\n",
    "            self.size = 32\n",
    "        self.input_seq = ((data / 255.0) * 2.0) - 1.0\n",
    "        self.input_seq = self.input_seq.moveaxis(3, 1)\n",
    "\n",
    "    def __len__(self):\n",
    "        return self.dataset_len\n",
    "\n",
    "    def __getitem__(self, item):\n",
    "        return self.input_seq[item]"
   ]
  },
  {
   "cell_type": "code",
   "execution_count": 5,
   "id": "ba1b3390-7078-48d7-bb39-a66a3b3fc011",
   "metadata": {},
   "outputs": [],
   "source": [
    "train_dataset = DiffSet(True, \"MNIST\")\n",
    "val_dataset = DiffSet(False, \"MNIST\")\n",
    "\n",
    "train_loader = DataLoader(train_dataset, batch_size=batch_size, num_workers=0, shuffle=True)\n",
    "test_loader = DataLoader(val_dataset, batch_size=batch_size, num_workers=0, shuffle=False)"
   ]
  },
  {
   "cell_type": "code",
   "execution_count": 6,
   "id": "7488919e-7f19-44ac-a50f-aa4d3708cd93",
   "metadata": {},
   "outputs": [],
   "source": [
    "# model\n",
    "# model = UNet(\n",
    "#         input_channels=1,\n",
    "#         input_height=32,\n",
    "#         ch=64,\n",
    "#         ch_mult=(1, 2, 2, 2),\n",
    "#         num_res_blocks=1,\n",
    "#         attn_resolutions=(16,),\n",
    "#         resamp_with_conv=True,\n",
    "#         dropout=0.,\n",
    "#         )\n",
    "\n",
    "model = SimpleUNet(img_depth=1)"
   ]
  },
  {
   "cell_type": "markdown",
   "id": "2e6bc48a-c963-4597-820e-3995053ed6b6",
   "metadata": {
    "tags": []
   },
   "source": [
    "### Tests Model and DataLoader"
   ]
  },
  {
   "cell_type": "code",
   "execution_count": 7,
   "id": "878fc1ee-40bf-42f8-955d-8e2ba0b5f7a9",
   "metadata": {},
   "outputs": [
    {
     "data": {
      "image/png": "[encoded data removed]",
      "text/plain": [
       "<Figure size 432x288 with 1 Axes>"
      ]
     },
     "metadata": {
      "needs_background": "light"
     },
     "output_type": "display_data"
    }
   ],
   "source": [
    "for batch in train_loader:\n",
    "    break\n",
    "\n",
    "img = batch[0][0].view(32,32)\n",
    "fig = plt.figure\n",
    "plt.imshow(img, cmap='gray')\n",
    "plt.show()"
   ]
  },
  {
   "cell_type": "code",
   "execution_count": 8,
   "id": "d4d78b91-fa31-4fe4-888b-a0328864d170",
   "metadata": {},
   "outputs": [
    {
     "data": {
      "text/plain": [
       "torch.Size([1, 1, 32, 32])"
      ]
     },
     "execution_count": 8,
     "metadata": {},
     "output_type": "execute_result"
    }
   ],
   "source": [
    "x_ = torch.randn(1, 1, 32, 32)\n",
    "t = torch.zeros(1)\n",
    "output = model(x_, t)\n",
    "output.shape"
   ]
  },
  {
   "cell_type": "code",
   "execution_count": 9,
   "id": "6584bf6e-332e-4e3f-99b8-bf9e55a8b382",
   "metadata": {},
   "outputs": [
    {
     "data": {
      "text/plain": [
       "12.0"
      ]
     },
     "execution_count": 9,
     "metadata": {},
     "output_type": "execute_result"
    }
   ],
   "source": [
    "# number of parameters\n",
    "sum(p.numel() for p in model.parameters()) // 1e6"
   ]
  },
  {
   "cell_type": "markdown",
   "id": "74728582-7a3e-44a4-baa4-a9d7d8953c9e",
   "metadata": {},
   "source": [
    "### Training"
   ]
  },
  {
   "cell_type": "code",
   "execution_count": 10,
   "id": "c9fada49-72d8-4dd5-a56d-533c835a1e60",
   "metadata": {},
   "outputs": [],
   "source": [
    "# def add_noise(imgs):\n",
    "#     z_noise = torch.randn_like(imgs)\n",
    "#     ts = torch.randint(0, diffusion_steps, (imgs.shape[0],), device=imgs.device)\n",
    "#     a_sampled = alpha_bars[ts].view(-1, 1, 1, 1)\n",
    "#     noised_imgs = torch.sqrt(a_sampled) * imgs + torch.sqrt(1 - a_sampled) * z_noise\n",
    "#     return noised_imgs, ts, z_noise"
   ]
  },
  {
   "cell_type": "code",
   "execution_count": 11,
   "id": "a1e005bc-22f1-4b44-8871-a895a1ef1491",
   "metadata": {},
   "outputs": [],
   "source": [
    "# coefficietns\n",
    "betas = torch.Tensor([beta_small + (t / diffusion_steps) * (beta_large - beta_small) for t in range(diffusion_steps)])\n",
    "alphas = 1 - betas\n",
    "alpha_bars = torch.cumprod(alphas, 0)"
   ]
  },
  {
   "cell_type": "code",
   "execution_count": 12,
   "id": "cb2ac224-a978-422f-9bb4-5493e76dc97a",
   "metadata": {},
   "outputs": [],
   "source": [
    "optimizer = torch.optim.Adam(model.parameters(), lr=learning_rate)\n",
    "scheduler = get_linear_schedule_with_warmup(optimizer, num_warmup_steps=num_warmup_stesp, num_training_steps=len(train_loader)*num_epochs)"
   ]
  },
  {
   "cell_type": "code",
   "execution_count": 13,
   "id": "999d6778-9284-4009-b59b-df65759111f4",
   "metadata": {},
   "outputs": [],
   "source": [
    "# send to device\n",
    "device = torch.device(\"cuda\")\n",
    "model = model.to(device)\n",
    "betas = betas.to(device)\n",
    "alphas = alphas.to(device)\n",
    "alpha_bars = alpha_bars.to(device)"
   ]
  },
  {
   "cell_type": "code",
   "execution_count": 14,
   "id": "48cd9a94-26d9-4055-9592-0b891a2f9e97",
   "metadata": {},
   "outputs": [],
   "source": [
    "def beta(t):\n",
    "    return beta_small + (t / diffusion_steps) * (\n",
    "        beta_large - beta_small\n",
    "    )\n",
    "\n",
    "def alpha(t):\n",
    "    return 1 - beta(t)\n",
    "\n",
    "def alpha_bar(t):\n",
    "    return math.prod([alpha(j) for j in range(t)])"
   ]
  },
  {
   "cell_type": "code",
   "execution_count": 15,
   "id": "b625605d-b033-441c-a07b-0e032ad26570",
   "metadata": {},
   "outputs": [],
   "source": [
    "def add_noise(imgs):\n",
    "    \n",
    "    ts = torch.randint(0, diffusion_steps, [imgs.shape[0]], device=imgs.device)\n",
    "    noise_imgs = []\n",
    "    epsilons = torch.randn(imgs.shape, device=imgs.device)\n",
    "    for i in range(len(ts)):\n",
    "        a_hat = alpha_bar(ts[i])\n",
    "        noise_imgs.append(\n",
    "            (math.sqrt(a_hat) * imgs[i]) + (math.sqrt(1 - a_hat) * epsilons[i])\n",
    "        )\n",
    "    noise_imgs = torch.stack(noise_imgs, dim=0)\n",
    "    return noise_imgs, ts, epsilons"
   ]
  },
  {
   "cell_type": "code",
   "execution_count": 16,
   "id": "ae64c641-94ed-4f18-b4de-72b19819f787",
   "metadata": {},
   "outputs": [
    {
     "data": {
      "application/vnd.jupyter.widget-view+json": {
       "model_id": "1fff44b42c1a4d739e158585ea07b55a",
       "version_major": 2,
       "version_minor": 0
      },
      "text/plain": [
       "  0%|          | 0/469 [00:00<?, ?it/s]"
      ]
     },
     "metadata": {},
     "output_type": "display_data"
    },
    {
     "ename": "KeyboardInterrupt",
     "evalue": "",
     "output_type": "error",
     "traceback": [
      "\u001b[0;31m---------------------------------------------------------------------------\u001b[0m",
      "\u001b[0;31mKeyboardInterrupt\u001b[0m                         Traceback (most recent call last)",
      "\u001b[0;32m/tmp/ipykernel_229389/4121448459.py\u001b[0m in \u001b[0;36m<module>\u001b[0;34m\u001b[0m\n\u001b[1;32m     21\u001b[0m \u001b[0;34m\u001b[0m\u001b[0m\n\u001b[1;32m     22\u001b[0m         \u001b[0mloss\u001b[0m\u001b[0;34m.\u001b[0m\u001b[0mbackward\u001b[0m\u001b[0;34m(\u001b[0m\u001b[0;34m)\u001b[0m\u001b[0;34m\u001b[0m\u001b[0;34m\u001b[0m\u001b[0m\n\u001b[0;32m---> 23\u001b[0;31m         \u001b[0moptimizer\u001b[0m\u001b[0;34m.\u001b[0m\u001b[0mstep\u001b[0m\u001b[0;34m(\u001b[0m\u001b[0;34m)\u001b[0m\u001b[0;34m\u001b[0m\u001b[0;34m\u001b[0m\u001b[0m\n\u001b[0m\u001b[1;32m     24\u001b[0m         \u001b[0mscheduler\u001b[0m\u001b[0;34m.\u001b[0m\u001b[0mstep\u001b[0m\u001b[0;34m(\u001b[0m\u001b[0;34m)\u001b[0m\u001b[0;34m\u001b[0m\u001b[0;34m\u001b[0m\u001b[0m\n\u001b[1;32m     25\u001b[0m         \u001b[0moptimizer\u001b[0m\u001b[0;34m.\u001b[0m\u001b[0mzero_grad\u001b[0m\u001b[0;34m(\u001b[0m\u001b[0;34m)\u001b[0m\u001b[0;34m\u001b[0m\u001b[0;34m\u001b[0m\u001b[0m\n",
      "\u001b[0;32m~/anaconda3/lib/python3.9/site-packages/torch/optim/lr_scheduler.py\u001b[0m in \u001b[0;36mwrapper\u001b[0;34m(*args, **kwargs)\u001b[0m\n\u001b[1;32m     63\u001b[0m                 \u001b[0minstance\u001b[0m\u001b[0;34m.\u001b[0m\u001b[0m_step_count\u001b[0m \u001b[0;34m+=\u001b[0m \u001b[0;36m1\u001b[0m\u001b[0;34m\u001b[0m\u001b[0;34m\u001b[0m\u001b[0m\n\u001b[1;32m     64\u001b[0m                 \u001b[0mwrapped\u001b[0m \u001b[0;34m=\u001b[0m \u001b[0mfunc\u001b[0m\u001b[0;34m.\u001b[0m\u001b[0m__get__\u001b[0m\u001b[0;34m(\u001b[0m\u001b[0minstance\u001b[0m\u001b[0;34m,\u001b[0m \u001b[0mcls\u001b[0m\u001b[0;34m)\u001b[0m\u001b[0;34m\u001b[0m\u001b[0;34m\u001b[0m\u001b[0m\n\u001b[0;32m---> 65\u001b[0;31m                 \u001b[0;32mreturn\u001b[0m \u001b[0mwrapped\u001b[0m\u001b[0;34m(\u001b[0m\u001b[0;34m*\u001b[0m\u001b[0margs\u001b[0m\u001b[0;34m,\u001b[0m \u001b[0;34m**\u001b[0m\u001b[0mkwargs\u001b[0m\u001b[0;34m)\u001b[0m\u001b[0;34m\u001b[0m\u001b[0;34m\u001b[0m\u001b[0m\n\u001b[0m\u001b[1;32m     66\u001b[0m \u001b[0;34m\u001b[0m\u001b[0m\n\u001b[1;32m     67\u001b[0m             \u001b[0;31m# Note that the returned function here is no longer a bound method,\u001b[0m\u001b[0;34m\u001b[0m\u001b[0;34m\u001b[0m\u001b[0m\n",
      "\u001b[0;32m~/anaconda3/lib/python3.9/site-packages/torch/optim/optimizer.py\u001b[0m in \u001b[0;36mwrapper\u001b[0;34m(*args, **kwargs)\u001b[0m\n\u001b[1;32m     86\u001b[0m                 \u001b[0mprofile_name\u001b[0m \u001b[0;34m=\u001b[0m \u001b[0;34m\"Optimizer.step#{}.step\"\u001b[0m\u001b[0;34m.\u001b[0m\u001b[0mformat\u001b[0m\u001b[0;34m(\u001b[0m\u001b[0mobj\u001b[0m\u001b[0;34m.\u001b[0m\u001b[0m__class__\u001b[0m\u001b[0;34m.\u001b[0m\u001b[0m__name__\u001b[0m\u001b[0;34m)\u001b[0m\u001b[0;34m\u001b[0m\u001b[0;34m\u001b[0m\u001b[0m\n\u001b[1;32m     87\u001b[0m                 \u001b[0;32mwith\u001b[0m \u001b[0mtorch\u001b[0m\u001b[0;34m.\u001b[0m\u001b[0mautograd\u001b[0m\u001b[0;34m.\u001b[0m\u001b[0mprofiler\u001b[0m\u001b[0;34m.\u001b[0m\u001b[0mrecord_function\u001b[0m\u001b[0;34m(\u001b[0m\u001b[0mprofile_name\u001b[0m\u001b[0;34m)\u001b[0m\u001b[0;34m:\u001b[0m\u001b[0;34m\u001b[0m\u001b[0;34m\u001b[0m\u001b[0m\n\u001b[0;32m---> 88\u001b[0;31m                     \u001b[0;32mreturn\u001b[0m \u001b[0mfunc\u001b[0m\u001b[0;34m(\u001b[0m\u001b[0;34m*\u001b[0m\u001b[0margs\u001b[0m\u001b[0;34m,\u001b[0m \u001b[0;34m**\u001b[0m\u001b[0mkwargs\u001b[0m\u001b[0;34m)\u001b[0m\u001b[0;34m\u001b[0m\u001b[0;34m\u001b[0m\u001b[0m\n\u001b[0m\u001b[1;32m     89\u001b[0m             \u001b[0;32mreturn\u001b[0m \u001b[0mwrapper\u001b[0m\u001b[0;34m\u001b[0m\u001b[0;34m\u001b[0m\u001b[0m\n\u001b[1;32m     90\u001b[0m \u001b[0;34m\u001b[0m\u001b[0m\n",
      "\u001b[0;32m~/anaconda3/lib/python3.9/site-packages/torch/autograd/grad_mode.py\u001b[0m in \u001b[0;36mdecorate_context\u001b[0;34m(*args, **kwargs)\u001b[0m\n\u001b[1;32m     26\u001b[0m         \u001b[0;32mdef\u001b[0m \u001b[0mdecorate_context\u001b[0m\u001b[0;34m(\u001b[0m\u001b[0;34m*\u001b[0m\u001b[0margs\u001b[0m\u001b[0;34m,\u001b[0m \u001b[0;34m**\u001b[0m\u001b[0mkwargs\u001b[0m\u001b[0;34m)\u001b[0m\u001b[0;34m:\u001b[0m\u001b[0;34m\u001b[0m\u001b[0;34m\u001b[0m\u001b[0m\n\u001b[1;32m     27\u001b[0m             \u001b[0;32mwith\u001b[0m \u001b[0mself\u001b[0m\u001b[0;34m.\u001b[0m\u001b[0m__class__\u001b[0m\u001b[0;34m(\u001b[0m\u001b[0;34m)\u001b[0m\u001b[0;34m:\u001b[0m\u001b[0;34m\u001b[0m\u001b[0;34m\u001b[0m\u001b[0m\n\u001b[0;32m---> 28\u001b[0;31m                 \u001b[0;32mreturn\u001b[0m \u001b[0mfunc\u001b[0m\u001b[0;34m(\u001b[0m\u001b[0;34m*\u001b[0m\u001b[0margs\u001b[0m\u001b[0;34m,\u001b[0m \u001b[0;34m**\u001b[0m\u001b[0mkwargs\u001b[0m\u001b[0;34m)\u001b[0m\u001b[0;34m\u001b[0m\u001b[0;34m\u001b[0m\u001b[0m\n\u001b[0m\u001b[1;32m     29\u001b[0m         \u001b[0;32mreturn\u001b[0m \u001b[0mcast\u001b[0m\u001b[0;34m(\u001b[0m\u001b[0mF\u001b[0m\u001b[0;34m,\u001b[0m \u001b[0mdecorate_context\u001b[0m\u001b[0;34m)\u001b[0m\u001b[0;34m\u001b[0m\u001b[0;34m\u001b[0m\u001b[0m\n\u001b[1;32m     30\u001b[0m \u001b[0;34m\u001b[0m\u001b[0m\n",
      "\u001b[0;32m~/anaconda3/lib/python3.9/site-packages/torch/optim/adam.py\u001b[0m in \u001b[0;36mstep\u001b[0;34m(self, closure)\u001b[0m\n\u001b[1;32m    131\u001b[0m                     \u001b[0mstate_steps\u001b[0m\u001b[0;34m.\u001b[0m\u001b[0mappend\u001b[0m\u001b[0;34m(\u001b[0m\u001b[0mstate\u001b[0m\u001b[0;34m[\u001b[0m\u001b[0;34m'step'\u001b[0m\u001b[0;34m]\u001b[0m\u001b[0;34m)\u001b[0m\u001b[0;34m\u001b[0m\u001b[0;34m\u001b[0m\u001b[0m\n\u001b[1;32m    132\u001b[0m \u001b[0;34m\u001b[0m\u001b[0m\n\u001b[0;32m--> 133\u001b[0;31m             F.adam(params_with_grad,\n\u001b[0m\u001b[1;32m    134\u001b[0m                    \u001b[0mgrads\u001b[0m\u001b[0;34m,\u001b[0m\u001b[0;34m\u001b[0m\u001b[0;34m\u001b[0m\u001b[0m\n\u001b[1;32m    135\u001b[0m                    \u001b[0mexp_avgs\u001b[0m\u001b[0;34m,\u001b[0m\u001b[0;34m\u001b[0m\u001b[0;34m\u001b[0m\u001b[0m\n",
      "\u001b[0;32m~/anaconda3/lib/python3.9/site-packages/torch/optim/_functional.py\u001b[0m in \u001b[0;36madam\u001b[0;34m(params, grads, exp_avgs, exp_avg_sqs, max_exp_avg_sqs, state_steps, amsgrad, beta1, beta2, lr, weight_decay, eps)\u001b[0m\n\u001b[1;32m     85\u001b[0m         \u001b[0;31m# Decay the first and second moment running average coefficient\u001b[0m\u001b[0;34m\u001b[0m\u001b[0;34m\u001b[0m\u001b[0m\n\u001b[1;32m     86\u001b[0m         \u001b[0mexp_avg\u001b[0m\u001b[0;34m.\u001b[0m\u001b[0mmul_\u001b[0m\u001b[0;34m(\u001b[0m\u001b[0mbeta1\u001b[0m\u001b[0;34m)\u001b[0m\u001b[0;34m.\u001b[0m\u001b[0madd_\u001b[0m\u001b[0;34m(\u001b[0m\u001b[0mgrad\u001b[0m\u001b[0;34m,\u001b[0m \u001b[0malpha\u001b[0m\u001b[0;34m=\u001b[0m\u001b[0;36m1\u001b[0m \u001b[0;34m-\u001b[0m \u001b[0mbeta1\u001b[0m\u001b[0;34m)\u001b[0m\u001b[0;34m\u001b[0m\u001b[0;34m\u001b[0m\u001b[0m\n\u001b[0;32m---> 87\u001b[0;31m         \u001b[0mexp_avg_sq\u001b[0m\u001b[0;34m.\u001b[0m\u001b[0mmul_\u001b[0m\u001b[0;34m(\u001b[0m\u001b[0mbeta2\u001b[0m\u001b[0;34m)\u001b[0m\u001b[0;34m.\u001b[0m\u001b[0maddcmul_\u001b[0m\u001b[0;34m(\u001b[0m\u001b[0mgrad\u001b[0m\u001b[0;34m,\u001b[0m \u001b[0mgrad\u001b[0m\u001b[0;34m.\u001b[0m\u001b[0mconj\u001b[0m\u001b[0;34m(\u001b[0m\u001b[0;34m)\u001b[0m\u001b[0;34m,\u001b[0m \u001b[0mvalue\u001b[0m\u001b[0;34m=\u001b[0m\u001b[0;36m1\u001b[0m \u001b[0;34m-\u001b[0m \u001b[0mbeta2\u001b[0m\u001b[0;34m)\u001b[0m\u001b[0;34m\u001b[0m\u001b[0;34m\u001b[0m\u001b[0m\n\u001b[0m\u001b[1;32m     88\u001b[0m         \u001b[0;32mif\u001b[0m \u001b[0mamsgrad\u001b[0m\u001b[0;34m:\u001b[0m\u001b[0;34m\u001b[0m\u001b[0;34m\u001b[0m\u001b[0m\n\u001b[1;32m     89\u001b[0m             \u001b[0;31m# Maintains the maximum of all 2nd moment running avg. till now\u001b[0m\u001b[0;34m\u001b[0m\u001b[0;34m\u001b[0m\u001b[0m\n",
      "\u001b[0;31mKeyboardInterrupt\u001b[0m: "
     ]
    }
   ],
   "source": [
    "for epoch in range(num_epochs):\n",
    "    \n",
    "    model.train()\n",
    "    pbar = tqdm.auto.tqdm(train_loader)\n",
    "    moving_loss = 0.0\n",
    "    for batch in pbar:\n",
    "        # imgs, labels = batch\n",
    "        imgs = batch\n",
    "        imgs = imgs.to(device)\n",
    "        # imgs = imgs * 2 - 1\n",
    "        \n",
    "        noised_imgs, ts, z_noise = add_noise(imgs)\n",
    "        \n",
    "        e_hat = model(noised_imgs, ts)\n",
    "        \n",
    "        loss = nn.functional.mse_loss(\n",
    "            e_hat.reshape(imgs.shape[0], -1), z_noise.reshape(imgs.shape[0], -1)\n",
    "        )\n",
    "        \n",
    "        moving_loss = moving_loss * 0.9 + 0.1 * loss.item()\n",
    "        \n",
    "        loss.backward()\n",
    "        optimizer.step()\n",
    "        scheduler.step()\n",
    "        optimizer.zero_grad()\n",
    "        pbar.set_postfix({'loss': moving_loss})\n",
    "        \n",
    "    with torch.no_grad():\n",
    "        model.eval()\n",
    "        with torch.random.fork_rng():\n",
    "            torch.random.manual_seed(123)\n",
    "            loss = 0\n",
    "            for batch in tqdm.auto.tqdm(test_loader):\n",
    "                # imgs, labels = batch\n",
    "                imgs = batch\n",
    "                imgs = imgs.to(device)\n",
    "                # imgs = imgs * 2 - 1\n",
    "\n",
    "                noised_imgs, ts, z_noise = add_noise(imgs)\n",
    "\n",
    "                e_hat = model(noised_imgs, ts)\n",
    "\n",
    "                loss += nn.functional.mse_loss(\n",
    "                    e_hat.reshape(imgs.shape[0], -1), z_noise.reshape(imgs.shape[0], -1)\n",
    "                )\n",
    "\n",
    "            loss /= len(test_loader)\n",
    "            print(f\"Epoch {epoch} Validation loss: {loss}\")"
   ]
  },
  {
   "cell_type": "code",
   "execution_count": null,
   "id": "07c99dea-8b4d-444f-a83a-15ed8770c95b",
   "metadata": {},
   "outputs": [],
   "source": []
  },
  {
   "cell_type": "code",
   "execution_count": null,
   "id": "659cf787-19a7-4bec-bd3c-ffc49b54640d",
   "metadata": {},
   "outputs": [],
   "source": []
  },
  {
   "cell_type": "code",
   "execution_count": null,
   "id": "9ce20555-c6a0-4354-a9dd-f053ef6bbdc5",
   "metadata": {},
   "outputs": [],
   "source": []
  },
  {
   "cell_type": "code",
   "execution_count": null,
   "id": "cb24b84d-8449-413b-9aca-0ef6f58f5974",
   "metadata": {},
   "outputs": [],
   "source": []
  },
  {
   "cell_type": "code",
   "execution_count": null,
   "id": "42664e5a-d3c0-42ad-a93c-362e138ccb51",
   "metadata": {},
   "outputs": [],
   "source": []
  },
  {
   "cell_type": "code",
   "execution_count": null,
   "id": "404257fc-640d-46c9-b8df-ea0c6991a08e",
   "metadata": {},
   "outputs": [],
   "source": []
  },
  {
   "cell_type": "code",
   "execution_count": null,
   "id": "95753069-f01d-49e4-aa8e-9ddbcc3c0738",
   "metadata": {},
   "outputs": [],
   "source": []
  },
  {
   "cell_type": "code",
   "execution_count": null,
   "id": "177042ed-8f94-4342-a547-ae0954fbdf4a",
   "metadata": {},
   "outputs": [],
   "source": [
    "batch[0].shape"
   ]
  },
  {
   "cell_type": "code",
   "execution_count": null,
   "id": "929d1d8c-4373-4d71-8399-fa419ffe9849",
   "metadata": {},
   "outputs": [],
   "source": [
    "\"\"\"\n",
    "Corresponds to Algorithm 1 from (Ho et al., 2020).\n",
    "\"\"\"\n",
    "ts = torch.randint(0, self.t_range, [batch.shape[0]], device=self.device)\n",
    "noise_imgs = []\n",
    "epsilons = torch.randn(batch.shape, device=self.device)\n",
    "for i in range(len(ts)):\n",
    "    a_hat = self.alpha_bar(ts[i])\n",
    "    noise_imgs.append(\n",
    "        (math.sqrt(a_hat) * batch[i]) + (math.sqrt(1 - a_hat) * epsilons[i])\n",
    "    )\n",
    "noise_imgs = torch.stack(noise_imgs, dim=0)\n",
    "e_hat = self.forward(noise_imgs, ts.unsqueeze(-1).type(torch.float))\n",
    "loss = nn.functional.mse_loss(\n",
    "    e_hat.reshape(-1, self.in_size), epsilons.reshape(-1, self.in_size)\n",
    ")"
   ]
  },
  {
   "cell_type": "code",
   "execution_count": null,
   "id": "b8522025-9f44-4bd6-aa12-33fa2719e243",
   "metadata": {},
   "outputs": [],
   "source": []
  },
  {
   "cell_type": "code",
   "execution_count": null,
   "id": "5b3fa39b-97ee-4f82-bae0-552cde058ef7",
   "metadata": {},
   "outputs": [],
   "source": []
  },
  {
   "cell_type": "code",
   "execution_count": null,
   "id": "cbcfe03e-2569-4936-bb3f-52d1936237cf",
   "metadata": {},
   "outputs": [],
   "source": []
  },
  {
   "cell_type": "code",
   "execution_count": null,
   "id": "8eba2c3a-fb1a-42f5-a346-0afc1e05079b",
   "metadata": {},
   "outputs": [],
   "source": []
  },
  {
   "cell_type": "code",
   "execution_count": null,
   "id": "2eca522a-0ce9-483c-8cd7-528c3582cf29",
   "metadata": {},
   "outputs": [],
   "source": []
  },
  {
   "cell_type": "code",
   "execution_count": null,
   "id": "a2a72290-ab7a-493b-b39c-5ee48fdb8921",
   "metadata": {},
   "outputs": [],
   "source": [
    "# Process samples and save as gif\n",
    "gen_samples = (gen_samples * 255).type(torch.uint8)\n",
    "gen_samples = gen_samples.reshape(-1, gif_shape[0], gif_shape[1], train_dataset.size, train_dataset.size, train_dataset.depth)\n",
    "\n",
    "def stack_samples(gen_samples, stack_dim):\n",
    "    gen_samples = list(torch.split(gen_samples, 1, dim=1))\n",
    "    for i in range(len(gen_samples)):\n",
    "        gen_samples[i] = gen_samples[i].squeeze(1)\n",
    "    return torch.cat(gen_samples, dim=stack_dim)\n",
    "\n",
    "gen_samples = stack_samples(gen_samples, 2)\n",
    "gen_samples = stack_samples(gen_samples, 2)\n",
    "\n",
    "imageio.mimsave(\n",
    "    f\"{trainer.logger.log_dir}/pred.gif\",\n",
    "    list(gen_samples),\n",
    "    fps=5,\n",
    ")"
   ]
  }
 ],
 "metadata": {
  "kernelspec": {
   "display_name": "Python 3 (ipykernel)",
   "language": "python",
   "name": "python3"
  },
  "language_info": {
   "codemirror_mode": {
    "name": "ipython",
    "version": 3
   },
   "file_extension": ".py",
   "mimetype": "text/x-python",
   "name": "python",
   "nbconvert_exporter": "python",
   "pygments_lexer": "ipython3",
   "version": "3.9.7"
  }
 },
 "nbformat": 4,
 "nbformat_minor": 5
}
