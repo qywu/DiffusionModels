{
 "cells": [
  {
   "cell_type": "code",
   "execution_count": 1,
   "id": "f87ec9ac-cb88-4908-9f66-3a9a396e1eb9",
   "metadata": {},
   "outputs": [],
   "source": [
    "import os\n",
    "import math\n",
    "import numpy as np\n",
    "import torch\n",
    "import torch.nn as nn\n",
    "import torch.nn.functional as F\n",
    "from torch.utils.data import Dataset, DataLoader\n",
    "from torchvision.datasets import MNIST, FashionMNIST, CIFAR10\n",
    "import torchvision\n",
    "from torchvision import transforms\n",
    "import matplotlib.pyplot as plt\n",
    "import tqdm\n",
    "from transformers import get_linear_schedule_with_warmup\n",
    "\n",
    "from UNet import UNet\n",
    "from SimpleUNet import SimpleUNet"
   ]
  },
  {
   "cell_type": "markdown",
   "id": "47d9c047-805c-4a94-a60d-7ed2b8881b30",
   "metadata": {},
   "source": [
    "### Hyper-parameters"
   ]
  },
  {
   "cell_type": "code",
   "execution_count": 2,
   "id": "e6c152c2-d2e5-4df0-a3e0-b4a5090f0b8d",
   "metadata": {},
   "outputs": [],
   "source": [
    "# training\n",
    "batch_size = 128\n",
    "eval_batch_size = 256\n",
    "learning_rate = 2e-4\n",
    "num_epochs = 10\n",
    "num_warmup_stesp = 100\n",
    "\n",
    "# diffusion model\n",
    "diffusion_steps = 1000\n",
    "beta_large = 0.02\n",
    "beta_small = 1e-4"
   ]
  },
  {
   "cell_type": "markdown",
   "id": "70f7c7fa-c6df-4db6-96c6-3b3accb14508",
   "metadata": {},
   "source": [
    "### Setup"
   ]
  },
  {
   "cell_type": "code",
   "execution_count": 3,
   "id": "14056262-da0c-43a0-8142-a67ac13debed",
   "metadata": {},
   "outputs": [],
   "source": [
    "train_loader = torch.utils.data.DataLoader(\n",
    "      torchvision.datasets.MNIST('/tmp/', train=True, download=True,\n",
    "                             transform=torchvision.transforms.Compose([\n",
    "                               torchvision.transforms.ToTensor(),\n",
    "                                 torchvision.transforms.Pad(2)\n",
    "                               # torchvision.transforms.Resize(32),\n",
    "                             ])),\n",
    "      batch_size=batch_size, shuffle=True)\n",
    "\n",
    "test_loader = torch.utils.data.DataLoader(\n",
    "     torchvision.datasets.MNIST('/tmp/', train=False, download=True,\n",
    "                             transform=torchvision.transforms.Compose([\n",
    "                               torchvision.transforms.ToTensor(),\n",
    "                                torchvision.transforms.Pad(2)\n",
    "                               # torchvision.transforms.Resize(32),\n",
    "                             ])),\n",
    "      batch_size=eval_batch_size, shuffle=True)"
   ]
  },
  {
   "cell_type": "code",
   "execution_count": 4,
   "id": "7488919e-7f19-44ac-a50f-aa4d3708cd93",
   "metadata": {},
   "outputs": [],
   "source": [
    "# model\n",
    "model = UNet(\n",
    "        input_channels=1,\n",
    "        input_height=32,\n",
    "        ch=32,\n",
    "        ch_mult=(1, 2, 2, 2),\n",
    "        num_res_blocks=1,\n",
    "        attn_resolutions=(16,),\n",
    "        resamp_with_conv=True,\n",
    "        dropout=0.,\n",
    "        )\n",
    "\n",
    "# model = SimpleUNet(img_depth=1)"
   ]
  },
  {
   "cell_type": "markdown",
   "id": "2e6bc48a-c963-4597-820e-3995053ed6b6",
   "metadata": {
    "tags": []
   },
   "source": [
    "### Tests Model and DataLoader"
   ]
  },
  {
   "cell_type": "code",
   "execution_count": 5,
   "id": "878fc1ee-40bf-42f8-955d-8e2ba0b5f7a9",
   "metadata": {},
   "outputs": [
    {
     "data": {
      "image/png": "[encoded data removed]",
      "text/plain": [
       "<Figure size 432x288 with 1 Axes>"
      ]
     },
     "metadata": {
      "needs_background": "light"
     },
     "output_type": "display_data"
    }
   ],
   "source": [
    "for batch in train_loader:\n",
    "    break\n",
    "\n",
    "img = batch[0][0].view(32,32)\n",
    "fig = plt.figure\n",
    "plt.imshow(img, cmap='gray')\n",
    "plt.show()"
   ]
  },
  {
   "cell_type": "code",
   "execution_count": 6,
   "id": "d4d78b91-fa31-4fe4-888b-a0328864d170",
   "metadata": {},
   "outputs": [
    {
     "data": {
      "text/plain": [
       "torch.Size([1, 1, 32, 32])"
      ]
     },
     "execution_count": 6,
     "metadata": {},
     "output_type": "execute_result"
    }
   ],
   "source": [
    "x_ = torch.randn(1, 1, 32, 32)\n",
    "t = torch.zeros(1)\n",
    "output = model(x_, t)\n",
    "output.shape"
   ]
  },
  {
   "cell_type": "code",
   "execution_count": 7,
   "id": "6584bf6e-332e-4e3f-99b8-bf9e55a8b382",
   "metadata": {},
   "outputs": [
    {
     "data": {
      "text/plain": [
       "1.0"
      ]
     },
     "execution_count": 7,
     "metadata": {},
     "output_type": "execute_result"
    }
   ],
   "source": [
    "# number of parameters\n",
    "sum(p.numel() for p in model.parameters()) // 1e6"
   ]
  },
  {
   "cell_type": "markdown",
   "id": "74728582-7a3e-44a4-baa4-a9d7d8953c9e",
   "metadata": {},
   "source": [
    "### Training"
   ]
  },
  {
   "cell_type": "code",
   "execution_count": 8,
   "id": "c9fada49-72d8-4dd5-a56d-533c835a1e60",
   "metadata": {},
   "outputs": [],
   "source": [
    "def add_noise(imgs):\n",
    "    z_noise = torch.randn_like(imgs)\n",
    "    ts = torch.randint(0, diffusion_steps, (imgs.shape[0],), device=imgs.device)\n",
    "    a_sampled = alpha_bars[ts].view(-1, 1, 1, 1)\n",
    "    noised_imgs = torch.sqrt(a_sampled) * imgs + torch.sqrt(1 - a_sampled) * z_noise\n",
    "    return noised_imgs, ts, z_noise"
   ]
  },
  {
   "cell_type": "code",
   "execution_count": 9,
   "id": "a1e005bc-22f1-4b44-8871-a895a1ef1491",
   "metadata": {},
   "outputs": [],
   "source": [
    "# coefficietns\n",
    "betas = torch.Tensor([beta_small + (t / diffusion_steps) * (beta_large - beta_small) for t in range(diffusion_steps)])\n",
    "alphas = 1 - betas\n",
    "alpha_bars = torch.cumprod(alphas, 0)"
   ]
  },
  {
   "cell_type": "code",
   "execution_count": 10,
   "id": "cb2ac224-a978-422f-9bb4-5493e76dc97a",
   "metadata": {},
   "outputs": [],
   "source": [
    "optimizer = torch.optim.AdamW(model.parameters(), lr=learning_rate)\n",
    "scheduler = get_linear_schedule_with_warmup(optimizer, num_warmup_steps=num_warmup_stesp, num_training_steps=len(train_loader)*num_epochs)"
   ]
  },
  {
   "cell_type": "code",
   "execution_count": 11,
   "id": "999d6778-9284-4009-b59b-df65759111f4",
   "metadata": {},
   "outputs": [],
   "source": [
    "# send to device\n",
    "device = torch.device(\"cuda\")\n",
    "model = model.to(device)\n",
    "betas = betas.to(device)\n",
    "alphas = alphas.to(device)\n",
    "alpha_bars = alpha_bars.to(device)"
   ]
  },
  {
   "cell_type": "code",
   "execution_count": 12,
   "id": "ae64c641-94ed-4f18-b4de-72b19819f787",
   "metadata": {},
   "outputs": [
    {
     "data": {
      "application/vnd.jupyter.widget-view+json": {
       "model_id": "46a5d95c95a1453c9b343f609b284e9a",
       "version_major": 2,
       "version_minor": 0
      },
      "text/plain": [
       "  0%|          | 0/469 [00:00<?, ?it/s]"
      ]
     },
     "metadata": {},
     "output_type": "display_data"
    },
    {
     "data": {
      "application/vnd.jupyter.widget-view+json": {
       "model_id": "4be321ba42444909a867190815b2282c",
       "version_major": 2,
       "version_minor": 0
      },
      "text/plain": [
       "  0%|          | 0/40 [00:00<?, ?it/s]"
      ]
     },
     "metadata": {},
     "output_type": "display_data"
    },
    {
     "name": "stdout",
     "output_type": "stream",
     "text": [
      "Epoch 0 Validation loss: 0.02626449428498745\n"
     ]
    },
    {
     "data": {
      "application/vnd.jupyter.widget-view+json": {
       "model_id": "4656bd856b1742458f266b4f8a066f20",
       "version_major": 2,
       "version_minor": 0
      },
      "text/plain": [
       "  0%|          | 0/469 [00:00<?, ?it/s]"
      ]
     },
     "metadata": {},
     "output_type": "display_data"
    },
    {
     "data": {
      "application/vnd.jupyter.widget-view+json": {
       "model_id": "e3b8bbd3bc1f48c799656e13d8a3a9f6",
       "version_major": 2,
       "version_minor": 0
      },
      "text/plain": [
       "  0%|          | 0/40 [00:00<?, ?it/s]"
      ]
     },
     "metadata": {},
     "output_type": "display_data"
    },
    {
     "name": "stdout",
     "output_type": "stream",
     "text": [
      "Epoch 1 Validation loss: 0.023728424683213234\n"
     ]
    },
    {
     "data": {
      "application/vnd.jupyter.widget-view+json": {
       "model_id": "8c69c6e80791472299efef915f1eb34b",
       "version_major": 2,
       "version_minor": 0
      },
      "text/plain": [
       "  0%|          | 0/469 [00:00<?, ?it/s]"
      ]
     },
     "metadata": {},
     "output_type": "display_data"
    },
    {
     "ename": "KeyboardInterrupt",
     "evalue": "",
     "output_type": "error",
     "traceback": [
      "\u001b[0;31m---------------------------------------------------------------------------\u001b[0m",
      "\u001b[0;31mKeyboardInterrupt\u001b[0m                         Traceback (most recent call last)",
      "\u001b[0;32m/tmp/ipykernel_236988/3871174812.py\u001b[0m in \u001b[0;36m<module>\u001b[0;34m\u001b[0m\n\u001b[1;32m     18\u001b[0m         )\n\u001b[1;32m     19\u001b[0m \u001b[0;34m\u001b[0m\u001b[0m\n\u001b[0;32m---> 20\u001b[0;31m         \u001b[0mmoving_loss\u001b[0m \u001b[0;34m=\u001b[0m \u001b[0mmoving_loss\u001b[0m \u001b[0;34m*\u001b[0m \u001b[0;36m0.9\u001b[0m \u001b[0;34m+\u001b[0m \u001b[0;36m0.1\u001b[0m \u001b[0;34m*\u001b[0m \u001b[0mloss\u001b[0m\u001b[0;34m.\u001b[0m\u001b[0mitem\u001b[0m\u001b[0;34m(\u001b[0m\u001b[0;34m)\u001b[0m\u001b[0;34m\u001b[0m\u001b[0;34m\u001b[0m\u001b[0m\n\u001b[0m\u001b[1;32m     21\u001b[0m \u001b[0;34m\u001b[0m\u001b[0m\n\u001b[1;32m     22\u001b[0m         \u001b[0mloss\u001b[0m\u001b[0;34m.\u001b[0m\u001b[0mbackward\u001b[0m\u001b[0;34m(\u001b[0m\u001b[0;34m)\u001b[0m\u001b[0;34m\u001b[0m\u001b[0;34m\u001b[0m\u001b[0m\n",
      "\u001b[0;31mKeyboardInterrupt\u001b[0m: "
     ]
    }
   ],
   "source": [
    "for epoch in range(num_epochs):\n",
    "    \n",
    "    model.train()\n",
    "    pbar = tqdm.auto.tqdm(train_loader)\n",
    "    moving_loss = 0.0\n",
    "    for batch in pbar:\n",
    "        imgs, labels = batch\n",
    "        imgs = imgs.to(device)\n",
    "        imgs = imgs * 2 - 1\n",
    "        \n",
    "        noised_imgs, ts, z_noise = add_noise(imgs)\n",
    "        \n",
    "        e_hat = model(noised_imgs, ts)\n",
    "        \n",
    "        loss = nn.functional.mse_loss(\n",
    "            e_hat.reshape(imgs.shape[0], -1), z_noise.reshape(imgs.shape[0], -1)\n",
    "        )\n",
    "        \n",
    "        moving_loss = moving_loss * 0.9 + 0.1 * loss.item()\n",
    "        \n",
    "        loss.backward()\n",
    "        optimizer.step()\n",
    "        scheduler.step()\n",
    "        optimizer.zero_grad()\n",
    "        pbar.set_postfix({'loss': moving_loss})\n",
    "        \n",
    "    with torch.no_grad():\n",
    "        model.eval()\n",
    "        with torch.random.fork_rng():\n",
    "            torch.random.manual_seed(123)\n",
    "            loss = 0\n",
    "            for batch in tqdm.auto.tqdm(test_loader):\n",
    "                imgs, labels = batch\n",
    "                imgs = imgs.to(device)\n",
    "                imgs = imgs * 2 - 1\n",
    "\n",
    "                noised_imgs, ts, z_noise = add_noise(imgs)\n",
    "\n",
    "                e_hat = model(noised_imgs, ts)\n",
    "\n",
    "                loss += nn.functional.mse_loss(\n",
    "                    e_hat.reshape(imgs.shape[0], -1), z_noise.reshape(imgs.shape[0], -1)\n",
    "                )\n",
    "\n",
    "            loss /= len(test_loader)\n",
    "            print(f\"Epoch {epoch} Validation loss: {loss}\")"
   ]
  },
  {
   "cell_type": "markdown",
   "id": "dbc519f1-6be1-4958-9c06-84f418ca3e78",
   "metadata": {},
   "source": [
    "## Sample Images"
   ]
  },
  {
   "cell_type": "code",
   "execution_count": 13,
   "id": "79273757-d025-436d-a4e2-165889d39841",
   "metadata": {},
   "outputs": [],
   "source": [
    "sample_steps = torch.arange(diffusion_steps - 1, -1, -1, device=device)"
   ]
  },
  {
   "cell_type": "code",
   "execution_count": 24,
   "id": "f2449ae0-7201-47e4-8c35-16b57ea2d58d",
   "metadata": {},
   "outputs": [
    {
     "data": {
      "application/vnd.jupyter.widget-view+json": {
       "model_id": "4f6bf2bbd1c748849657d32053b85a62",
       "version_major": 2,
       "version_minor": 0
      },
      "text/plain": [
       "  0%|          | 0/1000 [00:00<?, ?it/s]"
      ]
     },
     "metadata": {},
     "output_type": "display_data"
    }
   ],
   "source": [
    "x = torch.randn(1, 1, 32, 32).to(device)\n",
    "\n",
    "with torch.no_grad():\n",
    "    for t in tqdm.auto.tqdm(sample_steps):\n",
    "        # t = torch.zeros_like(t)\n",
    "        z = model(x, t.unsqueeze(0))\n",
    "        pre_scale = 1 / torch.sqrt(alphas[t])\n",
    "        z_scale = (1 - alphas[t]) / torch.sqrt(1 - alpha_bars[t])\n",
    "        sigma = torch.randn_like(x) * torch.sqrt(betas[t])\n",
    "        x = pre_scale * (x - z * z_scale) + sigma"
   ]
  },
  {
   "cell_type": "code",
   "execution_count": 25,
   "id": "445c2e26-99b2-451c-b55a-43d020e4992e",
   "metadata": {},
   "outputs": [
    {
     "data": {
      "image/png": "[encoded data removed]",
      "text/plain": [
       "<Figure size 432x288 with 1 Axes>"
      ]
     },
     "metadata": {
      "needs_background": "light"
     },
     "output_type": "display_data"
    }
   ],
   "source": [
    "img = x[0][0].view(32,32).cpu().numpy()\n",
    "fig = plt.figure\n",
    "plt.imshow(img, cmap='gray')\n",
    "plt.show()"
   ]
  },
  {
   "cell_type": "code",
   "execution_count": null,
   "id": "6aaba5f9-b601-4c28-8e41-0688ee7839ab",
   "metadata": {},
   "outputs": [],
   "source": []
  }
 ],
 "metadata": {
  "kernelspec": {
   "display_name": "Python 3 (ipykernel)",
   "language": "python",
   "name": "python3"
  },
  "language_info": {
   "codemirror_mode": {
    "name": "ipython",
    "version": 3
   },
   "file_extension": ".py",
   "mimetype": "text/x-python",
   "name": "python",
   "nbconvert_exporter": "python",
   "pygments_lexer": "ipython3",
   "version": "3.9.7"
  }
 },
 "nbformat": 4,
 "nbformat_minor": 5
}
